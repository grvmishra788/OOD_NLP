{
 "cells": [
  {
   "cell_type": "code",
   "execution_count": 1,
   "metadata": {},
   "outputs": [],
   "source": [
    "import numpy as np\n",
    "import tensorflow.compat.v1 as tf\n",
    "# %matplotlib inline\n",
    "# import matplotlib.pylab as plt\n",
    "from helper_functions_twitter import *\n",
    "import sklearn.metrics as sk\n",
    "\n",
    "%load_ext autoreload\n",
    "%autoreload 2"
   ]
  },
  {
   "cell_type": "code",
   "execution_count": 2,
   "metadata": {},
   "outputs": [],
   "source": [
    "window_size = 1\n",
    "\n",
    "# note that we encode the tags with numbers for later convenience\n",
    "tag_to_number = {\n",
    "    u'N': 0, u'O': 1, u'S': 2, u'^': 3, u'Z': 4, u'L': 5, u'M': 6,\n",
    "    u'V': 7, u'A': 8, u'R': 9, u'!': 10, u'D': 11, u'P': 12, u'&': 13, u'T': 14,\n",
    "    u'X': 15, u'Y': 16, u'#': 17, u'@': 18, u'~': 19, u'U': 20, u'E': 21, u'$': 22,\n",
    "    u',': 23, u'G': 24\n",
    "}\n",
    "\n",
    "embeddings = embeddings_to_dict('./data/Tweets/embeddings-twitter.txt')\n",
    "vocab = embeddings.keys()\n",
    "\n",
    "# we replace <s> with </s> since it has no embedding, and </s> is a better embedding than UNK\n",
    "xt, yt = data_to_mat('./data/Tweets/tweets-train.txt', vocab, tag_to_number, window_size=window_size,\n",
    "                     start_symbol=u'</s>')\n",
    "xdev, ydev = data_to_mat('./data/Tweets/tweets-dev.txt', vocab, tag_to_number, window_size=window_size,\n",
    "                         start_symbol=u'</s>')\n",
    "xdtest, ydtest = data_to_mat('./data/Tweets/tweets-devtest.txt', vocab, tag_to_number, window_size=window_size,\n",
    "                             start_symbol=u'</s>')\n",
    "\n",
    "data = {\n",
    "    'x_train': xt, 'y_train': yt,\n",
    "    'x_dev': xdev, 'y_dev': ydev,\n",
    "    'x_devtest': xdtest, 'y_devtest': ydtest\n",
    "}"
   ]
  },
  {
   "cell_type": "code",
   "execution_count": 3,
   "metadata": {},
   "outputs": [],
   "source": [
    "# build tf inputs\n",
    "num_epochs = 30\n",
    "num_tags = 25\n",
    "hidden_size = 256\n",
    "batch_size = 64\n",
    "embedding_dimension = 50\n",
    "example_size = (2*window_size + 1)*embedding_dimension\n",
    "init_lr = 0.001\n",
    "num_examples = data['y_train'].shape[0]\n",
    "num_batches = num_examples//batch_size\n",
    "\n",
    "graph = tf.Graph()\n",
    "with graph.as_default():\n",
    "    x = tf.placeholder(tf.float32, [None, example_size])\n",
    "    y = tf.placeholder(tf.int64, [None])\n",
    "\n",
    "    w1 = tf.Variable(tf.nn.l2_normalize(tf.random_normal([example_size, hidden_size]), 0)/tf.sqrt(1 + 0.425))\n",
    "    b1 = tf.Variable(tf.zeros([hidden_size]))\n",
    "    w2 = tf.Variable(tf.nn.l2_normalize(tf.random_normal([hidden_size, hidden_size]), 0)/tf.sqrt(0.425 + 0.425))\n",
    "    b2 = tf.Variable(tf.zeros([hidden_size]))\n",
    "    w_out = tf.Variable(tf.nn.l2_normalize(tf.random_normal([hidden_size, num_tags]), 0)/tf.sqrt(0.425 + 1))\n",
    "    b_out = tf.Variable(tf.zeros([num_tags]))\n",
    "\n",
    "    def gelu_fast(_x):\n",
    "        return 0.5 * _x * (1 + tf.tanh(tf.sqrt(2 / np.pi) * (_x + 0.044715 * tf.pow(_x, 3))))\n",
    "\n",
    "    def model(data_feed):\n",
    "        h1 = gelu_fast(tf.matmul(data_feed, w1) + b1)\n",
    "        h2 = gelu_fast(tf.matmul(h1, w2) + b2)\n",
    "        return tf.matmul(h2, w_out) + b_out\n",
    "\n",
    "    logits = model(x)\n",
    "    loss = tf.reduce_mean(tf.nn.sparse_softmax_cross_entropy_with_logits(logits=logits, labels=y))\n",
    "    loss += 5e-5*(tf.nn.l2_loss(w1) + tf.nn.l2_loss(w2))\n",
    "\n",
    "    # learning rate annealing\n",
    "    global_step = tf.Variable(0, trainable=False)\n",
    "    # drop lr 15 epochs in\n",
    "    lr = tf.train.exponential_decay(init_lr, global_step, 15*num_batches, 0.1, staircase=True)\n",
    "    # pick optimizer\n",
    "    optimizer = tf.train.AdamOptimizer(lr).minimize(loss, global_step=global_step)\n",
    "\n",
    "    acc = 100*tf.reduce_mean(tf.cast(tf.equal(tf.argmax(logits, 1), y), \"float\"))"
   ]
  },
  {
   "cell_type": "code",
   "execution_count": 4,
   "metadata": {},
   "outputs": [
    {
     "name": "stdout",
     "output_type": "stream",
     "text": [
      "WARNING:tensorflow:From /Applications/anaconda3/envs/pytorch/lib/python3.8/site-packages/tensorflow/python/util/tf_should_use.py:243: initialize_all_variables (from tensorflow.python.ops.variables) is deprecated and will be removed after 2017-03-02.\n",
      "Instructions for updating:\n",
      "Use `tf.global_variables_initializer` instead.\n",
      "Initialized\n"
     ]
    },
    {
     "name": "stderr",
     "output_type": "stream",
     "text": [
      "2022-04-07 15:37:16.925992: I tensorflow/core/platform/cpu_feature_guard.cc:151] This TensorFlow binary is optimized with oneAPI Deep Neural Network Library (oneDNN) to use the following CPU instructions in performance-critical operations:  AVX2 FMA\n",
      "To enable them in other operations, rebuild TensorFlow with the appropriate compiler flags.\n"
     ]
    }
   ],
   "source": [
    "# initialize\n",
    "sess = tf.InteractiveSession(graph=graph)\n",
    "tf.initialize_all_variables().run()\n",
    "print('Initialized')\n",
    "\n",
    "# create saver to train model\n",
    "saver = tf.train.Saver(max_to_keep=1)"
   ]
  },
  {
   "cell_type": "code",
   "execution_count": 5,
   "metadata": {},
   "outputs": [],
   "source": [
    "# sess.close()"
   ]
  },
  {
   "cell_type": "code",
   "execution_count": 6,
   "metadata": {
    "scrolled": false
   },
   "outputs": [
    {
     "name": "stdout",
     "output_type": "stream",
     "text": [
      "Epoch 0 | Minibatch loss 0.585 | Minibatch accuracy 82.812 | Dev accuracy 82.169\n",
      "Epoch 1 | Minibatch loss 0.254 | Minibatch accuracy 93.750 | Dev accuracy 84.512\n",
      "Epoch 2 | Minibatch loss 0.386 | Minibatch accuracy 92.188 | Dev accuracy 84.968\n",
      "Epoch 3 | Minibatch loss 0.401 | Minibatch accuracy 89.062 | Dev accuracy 85.797\n",
      "Epoch 4 | Minibatch loss 0.461 | Minibatch accuracy 87.500 | Dev accuracy 86.399\n",
      "Epoch 5 | Minibatch loss 0.358 | Minibatch accuracy 89.062 | Dev accuracy 85.880\n",
      "Epoch 6 | Minibatch loss 0.430 | Minibatch accuracy 87.500 | Dev accuracy 86.834\n",
      "Epoch 7 | Minibatch loss 0.243 | Minibatch accuracy 95.312 | Dev accuracy 87.166\n",
      "Epoch 8 | Minibatch loss 0.353 | Minibatch accuracy 89.062 | Dev accuracy 86.855\n",
      "Epoch 9 | Minibatch loss 0.454 | Minibatch accuracy 87.500 | Dev accuracy 86.689\n",
      "Epoch 10 | Minibatch loss 0.315 | Minibatch accuracy 93.750 | Dev accuracy 87.269\n",
      "Epoch 11 | Minibatch loss 0.379 | Minibatch accuracy 92.188 | Dev accuracy 87.518\n",
      "Epoch 12 | Minibatch loss 0.296 | Minibatch accuracy 90.625 | Dev accuracy 87.083\n",
      "Epoch 13 | Minibatch loss 0.263 | Minibatch accuracy 93.750 | Dev accuracy 87.456\n",
      "Epoch 14 | Minibatch loss 0.242 | Minibatch accuracy 92.188 | Dev accuracy 86.668\n",
      "Epoch 15 | Minibatch loss 0.235 | Minibatch accuracy 93.750 | Dev accuracy 87.062\n",
      "Epoch 16 | Minibatch loss 0.293 | Minibatch accuracy 92.188 | Dev accuracy 87.249\n",
      "Epoch 17 | Minibatch loss 0.169 | Minibatch accuracy 95.312 | Dev accuracy 87.332\n",
      "Epoch 18 | Minibatch loss 0.135 | Minibatch accuracy 95.312 | Dev accuracy 87.394\n",
      "Epoch 19 | Minibatch loss 0.192 | Minibatch accuracy 96.875 | Dev accuracy 87.332\n",
      "Epoch 20 | Minibatch loss 0.089 | Minibatch accuracy 100.000 | Dev accuracy 87.332\n",
      "Epoch 21 | Minibatch loss 0.189 | Minibatch accuracy 96.875 | Dev accuracy 87.311\n",
      "Epoch 22 | Minibatch loss 0.079 | Minibatch accuracy 100.000 | Dev accuracy 87.083\n",
      "Epoch 23 | Minibatch loss 0.117 | Minibatch accuracy 96.875 | Dev accuracy 87.332\n",
      "Epoch 24 | Minibatch loss 0.192 | Minibatch accuracy 95.312 | Dev accuracy 87.124\n",
      "Epoch 25 | Minibatch loss 0.214 | Minibatch accuracy 95.312 | Dev accuracy 87.311\n",
      "Epoch 26 | Minibatch loss 0.182 | Minibatch accuracy 95.312 | Dev accuracy 87.249\n",
      "Epoch 27 | Minibatch loss 0.198 | Minibatch accuracy 93.750 | Dev accuracy 87.145\n",
      "Epoch 28 | Minibatch loss 0.127 | Minibatch accuracy 96.875 | Dev accuracy 87.145\n",
      "Epoch 29 | Minibatch loss 0.211 | Minibatch accuracy 95.312 | Dev accuracy 87.124\n"
     ]
    }
   ],
   "source": [
    "best_acc = 0\n",
    "\n",
    "# train\n",
    "for epoch in range(num_epochs):\n",
    "    # shuffle data every epoch\n",
    "    indices = np.arange(num_examples)\n",
    "    np.random.shuffle(indices)\n",
    "    data['x_train'] = data['x_train'][indices]\n",
    "    data['y_train'] = data['y_train'][indices]\n",
    "\n",
    "    for i in range(num_batches):\n",
    "        offset = i * batch_size\n",
    "\n",
    "        x_batch = word_list_to_embedding(data['x_train'][offset:offset + batch_size, :],\n",
    "                                             embeddings, embedding_dimension)\n",
    "        y_batch = data['y_train'][offset:offset + batch_size]\n",
    "\n",
    "        _, l, batch_acc = sess.run([optimizer, loss, acc],\n",
    "                                     feed_dict={x: x_batch, y: y_batch})\n",
    "\n",
    "        if i % 100 == 0:\n",
    "            curr_dev_acc = sess.run(\n",
    "                acc, feed_dict={x: word_list_to_embedding(data['x_dev'], embeddings, embedding_dimension),\n",
    "                                y: data['y_dev']})\n",
    "            if best_acc < curr_dev_acc:\n",
    "                best_acc = curr_dev_acc\n",
    "                saver.save(sess, './data/best_tweet_model.ckpt')\n",
    "\n",
    "    print('Epoch %d | Minibatch loss %.3f | Minibatch accuracy %.3f | Dev accuracy %.3f' %\n",
    "          (epoch, l, batch_acc, curr_dev_acc))"
   ]
  },
  {
   "cell_type": "code",
   "execution_count": 7,
   "metadata": {},
   "outputs": [
    {
     "name": "stdout",
     "output_type": "stream",
     "text": [
      "INFO:tensorflow:Restoring parameters from ./data/best_tweet_model.ckpt\n",
      "Best model restored!\n",
      "DevTest accuracy: 86.99664\n"
     ]
    }
   ],
   "source": [
    "# restore variables from disk\n",
    "saver.restore(sess, \"./data/best_tweet_model.ckpt\")\n",
    "print(\"Best model restored!\")\n",
    "\n",
    "print('DevTest accuracy:', sess.run(\n",
    "        acc, feed_dict={x: word_list_to_embedding(data['x_devtest'], embeddings, embedding_dimension),\n",
    "                        y: data['y_devtest']}))"
   ]
  },
  {
   "cell_type": "code",
   "execution_count": 8,
   "metadata": {},
   "outputs": [
    {
     "name": "stdout",
     "output_type": "stream",
     "text": [
      "WARNING:tensorflow:From /Applications/anaconda3/envs/pytorch/lib/python3.8/site-packages/tensorflow/python/util/dispatch.py:1082: calling reduce_max_v1 (from tensorflow.python.ops.math_ops) with keep_dims is deprecated and will be removed in a future version.\n",
      "Instructions for updating:\n",
      "keep_dims is deprecated, use keepdims instead\n",
      "WARNING:tensorflow:From /Applications/anaconda3/envs/pytorch/lib/python3.8/site-packages/tensorflow/python/util/dispatch.py:1082: calling reduce_sum_v1 (from tensorflow.python.ops.math_ops) with keep_dims is deprecated and will be removed in a future version.\n",
      "Instructions for updating:\n",
      "keep_dims is deprecated, use keepdims instead\n"
     ]
    }
   ],
   "source": [
    "s = tf.nn.softmax(logits)\n",
    "s_prob = tf.reduce_max(s, reduction_indices=[1], keep_dims=True)\n",
    "kl_all = tf.log(25.) + tf.reduce_sum(s * tf.log(tf.abs(s) + 1e-11), reduction_indices=[1], keep_dims=True)\n",
    "m_all, v_all = tf.nn.moments(kl_all, axes=[0])\n",
    "\n",
    "logits_right = tf.boolean_mask(logits, tf.equal(tf.argmax(logits, 1), y))\n",
    "s_right = tf.nn.softmax(logits_right)\n",
    "s_right_prob = tf.reduce_max(s_right, reduction_indices=[1], keep_dims=True)\n",
    "kl_right = tf.log(25.) + tf.reduce_sum(s_right * tf.log(tf.abs(s_right) + 1e-11), reduction_indices=[1], keep_dims=True)\n",
    "m_right, v_right = tf.nn.moments(kl_right, axes=[0])\n",
    "\n",
    "logits_wrong = tf.boolean_mask(logits, tf.not_equal(tf.argmax(logits, 1), y))\n",
    "s_wrong = tf.nn.softmax(logits_wrong)\n",
    "s_wrong_prob = tf.reduce_max(s_wrong, reduction_indices=[1], keep_dims=True)\n",
    "kl_wrong = tf.log(25.) + tf.reduce_sum(s_wrong * tf.log(tf.abs(s_wrong) + 1e-11), reduction_indices=[1], keep_dims=True)\n",
    "m_wrong, v_wrong = tf.nn.moments(kl_wrong, axes=[0])"
   ]
  },
  {
   "cell_type": "code",
   "execution_count": 9,
   "metadata": {},
   "outputs": [
    {
     "name": "stdout",
     "output_type": "stream",
     "text": [
      "Twitter Error (%)| Prediction Prob (mean, std) | PProb Right (mean, std) | PProb Wrong (mean, std):\n",
      "12.481857 | 0.90123194 0.17371456 | 0.9339541 0.13609001 | 0.6717962 0.22750317\n",
      "\n",
      "Success Detection\n",
      "Success base rate (%): 87.52\n",
      "KL[p||u]: Right/Wrong classification distinction\n",
      "AUPR (%): 97.92\n",
      "AUROC (%): 87.46\n",
      "Prediction Prob: Right/Wrong classification distinction\n",
      "AUPR (%): 97.92\n",
      "AUROC (%): 87.41\n",
      "\n",
      "Error Detection\n",
      "Error base rate (%): 12.48\n",
      "KL[p||u]: Right/Wrong classification distinction\n",
      "AUPR (%): 48.95\n",
      "AUROC (%): 87.46\n",
      "Prediction Prob: Right/Wrong classification distinction\n",
      "AUPR (%): 47.97\n",
      "AUROC (%): 87.41\n"
     ]
    }
   ],
   "source": [
    "err, kl_a, kl_r, kl_w, s_p, s_rp, s_wp = sess.run(\n",
    "    [100 - acc, kl_all, kl_right, kl_wrong, s_prob, s_right_prob, s_wrong_prob],\n",
    "    feed_dict={x: word_list_to_embedding(data['x_dev'],embeddings, embedding_dimension),\n",
    "               y: data['y_dev']})\n",
    "\n",
    "print('Twitter Error (%)| Prediction Prob (mean, std) | PProb Right (mean, std) | PProb Wrong (mean, std):')\n",
    "print(err, '|', np.mean(s_p), np.std(s_p), '|', np.mean(s_rp), np.std(s_rp), '|', np.mean(s_wp), np.std(s_wp))\n",
    "\n",
    "print('\\nSuccess Detection')\n",
    "print('Success base rate (%):', round(100-err,2))\n",
    "print('KL[p||u]: Right/Wrong classification distinction')\n",
    "safe, risky = kl_r, kl_w\n",
    "labels = np.zeros((safe.shape[0] + risky.shape[0]), dtype=np.int32)\n",
    "labels[:safe.shape[0]] += 1\n",
    "examples = np.squeeze(np.vstack((safe, risky)))\n",
    "print('AUPR (%):', round(100*sk.average_precision_score(labels, examples), 2))\n",
    "print('AUROC (%):', round(100*sk.roc_auc_score(labels, examples), 2))\n",
    "\n",
    "print('Prediction Prob: Right/Wrong classification distinction')\n",
    "safe, risky = s_rp, s_wp\n",
    "labels = np.zeros((safe.shape[0] + risky.shape[0]), dtype=np.int32)\n",
    "labels[:safe.shape[0]] += 1\n",
    "examples = np.squeeze(np.vstack((safe, risky)))\n",
    "print('AUPR (%):', round(100*sk.average_precision_score(labels, examples), 2))\n",
    "print('AUROC (%):', round(100*sk.roc_auc_score(labels, examples), 2))\n",
    "\n",
    "\n",
    "print('\\nError Detection')\n",
    "print('Error base rate (%):', round(err,2))\n",
    "safe, risky = -kl_r, -kl_w\n",
    "labels = np.zeros((safe.shape[0] + risky.shape[0]), dtype=np.int32)\n",
    "labels[safe.shape[0]:] += 1\n",
    "examples = np.squeeze(np.vstack((safe, risky)))\n",
    "print('KL[p||u]: Right/Wrong classification distinction')\n",
    "print('AUPR (%):', round(100*sk.average_precision_score(labels, examples), 2))\n",
    "print('AUROC (%):', round(100*sk.roc_auc_score(labels, examples), 2))\n",
    "\n",
    "print('Prediction Prob: Right/Wrong classification distinction')\n",
    "safe, risky = -s_rp, -s_wp\n",
    "labels = np.zeros((safe.shape[0] + risky.shape[0]), dtype=np.int32)\n",
    "labels[safe.shape[0]:] += 1\n",
    "examples = np.squeeze(np.vstack((safe, risky)))\n",
    "print('AUPR (%):', round(100*sk.average_precision_score(labels, examples), 2))\n",
    "print('AUROC (%):', round(100*sk.roc_auc_score(labels, examples), 2))"
   ]
  },
  {
   "cell_type": "code",
   "execution_count": null,
   "metadata": {},
   "outputs": [],
   "source": []
  }
 ],
 "metadata": {
  "kernelspec": {
   "display_name": "Python 3 (ipykernel)",
   "language": "python",
   "name": "python3"
  },
  "language_info": {
   "codemirror_mode": {
    "name": "ipython",
    "version": 3
   },
   "file_extension": ".py",
   "mimetype": "text/x-python",
   "name": "python",
   "nbconvert_exporter": "python",
   "pygments_lexer": "ipython3",
   "version": "3.8.12"
  }
 },
 "nbformat": 4,
 "nbformat_minor": 1
}
